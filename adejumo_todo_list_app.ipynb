{
  "nbformat": 4,
  "nbformat_minor": 0,
  "metadata": {
    "colab": {
      "provenance": []
    },
    "kernelspec": {
      "name": "python3",
      "display_name": "Python 3"
    },
    "language_info": {
      "name": "python"
    }
  },
  "cells": [
    {
      "cell_type": "code",
      "execution_count": 1,
      "metadata": {
        "id": "eT39dGkEZyPj"
      },
      "outputs": [],
      "source": [
        "# Cell 1: Core Functions\n",
        "\n",
        "tasks = []\n",
        "\n",
        "def add_task(task):\n",
        "    tasks.append({\"task\": task, \"completed\": False})\n",
        "\n",
        "def remove_task(index):\n",
        "    try:\n",
        "        tasks.pop(index)\n",
        "    except IndexError:\n",
        "        print(\"Invalid task number.\")\n",
        "\n",
        "def mark_completed(index):\n",
        "    try:\n",
        "        tasks[index][\"completed\"] = True\n",
        "    except IndexError:\n",
        "        print(\"Invalid task number.\")\n",
        "\n",
        "def show_tasks():\n",
        "    if not tasks:\n",
        "        print(\"No tasks to show.\")\n",
        "        return\n",
        "\n",
        "    print(\"\\nYour Tasks:\")\n",
        "    for i, task in enumerate(tasks):\n",
        "        status = \"✓\" if task[\"completed\"] else \"✗\"\n",
        "        print(f\"{i + 1}. [{status}] {task['task']}\")\n"
      ]
    },
    {
      "cell_type": "code",
      "source": [
        "# Cell 2: Save & Load from File\n",
        "\n",
        "import os\n",
        "import json\n",
        "\n",
        "FILENAME = \"tasks.json\"\n",
        "\n",
        "def save_tasks():\n",
        "    with open(FILENAME, \"w\") as f:\n",
        "        json.dump(tasks, f)\n",
        "\n",
        "def load_tasks():\n",
        "    global tasks\n",
        "    if os.path.exists(FILENAME):\n",
        "        with open(FILENAME, \"r\") as f:\n",
        "            tasks = json.load(f)\n",
        "    else:\n",
        "        tasks = []\n"
      ],
      "metadata": {
        "id": "nees0x0HZ8b5"
      },
      "execution_count": 2,
      "outputs": []
    },
    {
      "cell_type": "code",
      "source": [
        "# Cell 3: Main Interface\n",
        "\n",
        "def main():\n",
        "    load_tasks()\n",
        "    while True:\n",
        "        print(\"\\n--- TO-DO LIST MENU ---\")\n",
        "        print(\"1. Add task\")\n",
        "        print(\"2. Remove task\")\n",
        "        print(\"3. Mark task as completed\")\n",
        "        print(\"4. Show tasks\")\n",
        "        print(\"5. Save and Exit\")\n",
        "\n",
        "        choice = input(\"Enter your choice (1-5): \").strip()\n",
        "\n",
        "        if choice == \"1\":\n",
        "            task = input(\"Enter the task: \")\n",
        "            add_task(task)\n",
        "        elif choice == \"2\":\n",
        "            show_tasks()\n",
        "            try:\n",
        "                num = int(input(\"Enter task number to remove: \")) - 1\n",
        "                remove_task(num)\n",
        "            except ValueError:\n",
        "                print(\"Invalid input.\")\n",
        "        elif choice == \"3\":\n",
        "            show_tasks()\n",
        "            try:\n",
        "                num = int(input(\"Enter task number to mark as complete: \")) - 1\n",
        "                mark_completed(num)\n",
        "            except ValueError:\n",
        "                print(\"Invalid input.\")\n",
        "        elif choice == \"4\":\n",
        "            show_tasks()\n",
        "        elif choice == \"5\":\n",
        "            save_tasks()\n",
        "            print(\"Tasks saved. Goodbye!\")\n",
        "            break\n",
        "        else:\n",
        "            print(\"Invalid option. Choose 1-5.\")\n",
        "\n",
        "# Run the app\n",
        "main()\n"
      ],
      "metadata": {
        "colab": {
          "base_uri": "https://localhost:8080/"
        },
        "id": "eV337qLtaAd5",
        "outputId": "ae39cf28-0338-4006-a3c9-6fa2274d18e2"
      },
      "execution_count": null,
      "outputs": [
        {
          "output_type": "stream",
          "name": "stdout",
          "text": [
            "\n",
            "--- TO-DO LIST MENU ---\n",
            "1. Add task\n",
            "2. Remove task\n",
            "3. Mark task as completed\n",
            "4. Show tasks\n",
            "5. Save and Exit\n",
            "Enter your choice (1-5): 1\n",
            "Enter the task: shopping\n",
            "\n",
            "--- TO-DO LIST MENU ---\n",
            "1. Add task\n",
            "2. Remove task\n",
            "3. Mark task as completed\n",
            "4. Show tasks\n",
            "5. Save and Exit\n"
          ]
        }
      ]
    }
  ]
}